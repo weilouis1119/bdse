{
 "cells": [
  {
   "cell_type": "code",
   "execution_count": 2,
   "id": "83f55921",
   "metadata": {},
   "outputs": [],
   "source": [
    "import pandas as pd\n",
    "import re"
   ]
  },
  {
   "cell_type": "markdown",
   "id": "9a302ec4",
   "metadata": {},
   "source": [
    "# 主資料合併"
   ]
  },
  {
   "cell_type": "code",
   "execution_count": 342,
   "id": "4a9203bd",
   "metadata": {},
   "outputs": [],
   "source": [
    "# 合併所有zipcode的房屋資料\n",
    "c = 1\n",
    "zipcode = []\n",
    "df = pd.read_csv('zipcode_data/98001.csv')\n",
    "for i in range(98002, 98289):\n",
    "    try:\n",
    "        add = pd.read_csv('zipcode_data/%s.csv' % str(i))\n",
    "        add.columns = ['mls', 'housebedroom', 'housebathroom', 'sqft', 'address', 'soldout',\n",
    "                       'walkscore', 'transitscore', 'school1', 'school2', 'school3',\n",
    "                       'houseyear', 'lot', 'pt', 'ta', 'houseprice']\n",
    "        df = df.append(add,ignore_index=True)\n",
    "        c += 1\n",
    "        zipcode.append(i)\n",
    "    except:\n",
    "        None\n",
    "        \n",
    "for i in range(len(df)):\n",
    "    if type(df.iloc[i,12]) == str:\n",
    "        df.iloc[i,12] = df.iloc[i,12].replace(',','')\n",
    "df['lot'] = df['lot'].astype(float)"
   ]
  },
  {
   "cell_type": "code",
   "execution_count": 343,
   "id": "bceffe28",
   "metadata": {
    "scrolled": true
   },
   "outputs": [
    {
     "data": {
      "text/plain": [
       "mls              2\n",
       "housebedroom     0\n",
       "housebathroom    0\n",
       "sqft             0\n",
       "address          0\n",
       "soldout          0\n",
       "walkscore        0\n",
       "transitscore     0\n",
       "school1          0\n",
       "school2          0\n",
       "school3          0\n",
       "houseyear        0\n",
       "lot              0\n",
       "pt               0\n",
       "ta               0\n",
       "houseprice       0\n",
       "dtype: int64"
      ]
     },
     "execution_count": 343,
     "metadata": {},
     "output_type": "execute_result"
    }
   ],
   "source": [
    "df.isnull().sum()"
   ]
  },
  {
   "cell_type": "code",
   "execution_count": 344,
   "id": "81bc03e4",
   "metadata": {},
   "outputs": [],
   "source": [
    "df = df.reindex(columns = ['mls', 'address', 'soldout','housebedroom', 'housebathroom', 'sqft',\n",
    "       'walkscore', 'transitscore', 'school1', 'school2', 'school3',\n",
    "       'houseyear', 'lot', 'pt', 'ta', 'houseprice'])"
   ]
  },
  {
   "cell_type": "code",
   "execution_count": 345,
   "id": "4ef0fb3d",
   "metadata": {},
   "outputs": [
    {
     "name": "stdout",
     "output_type": "stream",
     "text": [
      "26434              12326 94th, Avenue, NE 98034\n",
      "57062    106 Princess Ave, Greenville, SC 29611\n",
      "75551         14523 37th Ave, Seattle, NE 98155\n",
      "Name: address, dtype: object\n"
     ]
    }
   ],
   "source": [
    "# 找出不是 WA 的地址並刪除 \n",
    "count = 0\n",
    "drop = []\n",
    "for i in df['address']:\n",
    "    if 'WA' not in i:\n",
    "        drop.append(count)\n",
    "    count += 1 \n",
    "print(df['address'][drop])\n",
    "df.drop(drop, axis=0, inplace=True)\n",
    "df.reset_index(drop=True, inplace=True)"
   ]
  },
  {
   "cell_type": "code",
   "execution_count": 347,
   "id": "1b17c307",
   "metadata": {},
   "outputs": [],
   "source": [
    "# 新增zipcode欄位\n",
    "c=0\n",
    "zipcodeList = []\n",
    "for i in df['address']:\n",
    "    zipcode = re.search('WA 98[0-9]+', i).group().replace('WA ', '')\n",
    "    zipcodeList.append(zipcode)\n",
    "df['zipcode'] = zipcodeList"
   ]
  },
  {
   "cell_type": "code",
   "execution_count": 352,
   "id": "f1fcbc37",
   "metadata": {
    "scrolled": true
   },
   "outputs": [],
   "source": [
    "# 屋齡計算\n",
    "c = 0\n",
    "l = []\n",
    "for i in df['soldout']:\n",
    "    if '$' in  i:\n",
    "        l.append(c)       \n",
    "    c += 1 \n"
   ]
  },
  {
   "cell_type": "code",
   "execution_count": 350,
   "id": "95436387",
   "metadata": {},
   "outputs": [],
   "source": [
    "df.drop(l, axis=0, inplace=True)"
   ]
  },
  {
   "cell_type": "code",
   "execution_count": 353,
   "id": "6da2a0fb",
   "metadata": {},
   "outputs": [],
   "source": [
    "for i in df['soldout']:\n",
    "    if '$' in  i:\n",
    "        print(i)\n",
    "        #l.append(c)       \n",
    "    c += 1 "
   ]
  },
  {
   "cell_type": "code",
   "execution_count": 354,
   "id": "0e145cd8",
   "metadata": {},
   "outputs": [
    {
     "name": "stderr",
     "output_type": "stream",
     "text": [
      "<ipython-input-354-3f445bdfd77a>:1: FutureWarning: The default value of regex will change from True to False in a future version.\n",
      "  df['houseyear'] = df['soldout'].str.replace('[0-9]{1,2}/[0-9]{1,2}/',  '').astype(int) - df['houseyear']\n"
     ]
    }
   ],
   "source": [
    "df['houseyear'] = df['soldout'].str.replace('[0-9]{1,2}/[0-9]{1,2}/',  '').astype(int) - df['houseyear']"
   ]
  },
  {
   "cell_type": "code",
   "execution_count": 355,
   "id": "d75da84b",
   "metadata": {},
   "outputs": [],
   "source": [
    "# 刪除 mls\n",
    "df.drop(['mls'], axis=1, inplace=True)"
   ]
  },
  {
   "cell_type": "code",
   "execution_count": 356,
   "id": "945362df",
   "metadata": {},
   "outputs": [],
   "source": [
    "df = df.reindex(columns = ['address', 'soldout', 'zipcode', 'housebedroom', 'housebathroom', 'sqft',\n",
    "       'walkscore', 'transitscore', 'school1', 'school2', 'school3',\n",
    "       'houseyear', 'lot', 'pt', 'ta', 'houseprice'])\n",
    "df['zipcode'] = df['zipcode'].astype(int)\n",
    "df.reset_index(drop=True, inplace=True)"
   ]
  },
  {
   "cell_type": "code",
   "execution_count": 358,
   "id": "89ad1ac8",
   "metadata": {},
   "outputs": [],
   "source": [
    "df.to_csv('zipcode_data/zillowData.csv', index=0)"
   ]
  },
  {
   "cell_type": "markdown",
   "id": "35c4b060",
   "metadata": {},
   "source": [
    "# 外部資料與主資料結合"
   ]
  },
  {
   "cell_type": "code",
   "execution_count": 29,
   "id": "9da2d2b9",
   "metadata": {},
   "outputs": [],
   "source": [
    "df = pd.read_csv('zipcode_data/zillowData.csv')\n",
    "outsideCh = pd.read_excel('外部資料.xlsx', sheet_name='中文')\n",
    "outsideEn = pd.read_excel('外部資料.xlsx', sheet_name='英文')\n",
    "df3 = pd.read_csv('taxrate.csv')\n",
    "exchangeRate = pd.read_csv('exchangeRate.csv')"
   ]
  },
  {
   "cell_type": "code",
   "execution_count": 30,
   "id": "4b4301d6",
   "metadata": {},
   "outputs": [],
   "source": [
    "df3.columns = ['zipcode', 'salesTaxRate']"
   ]
  },
  {
   "cell_type": "code",
   "execution_count": 31,
   "id": "f06dc814",
   "metadata": {},
   "outputs": [],
   "source": [
    "outsideCh.drop(['Unnamed: 23', 'Unnamed: 24'],axis=1, inplace=True)"
   ]
  },
  {
   "cell_type": "code",
   "execution_count": 32,
   "id": "2e37fb12",
   "metadata": {},
   "outputs": [],
   "source": [
    "pd.set_option('display.max_columns', None)\n",
    "pd.set_option('display.max_rows', 100)"
   ]
  },
  {
   "cell_type": "code",
   "execution_count": 33,
   "id": "6d329b62",
   "metadata": {},
   "outputs": [
    {
     "data": {
      "text/plain": [
       "zipcode                                  0\n",
       "population density                       0\n",
       "housing units                            0\n",
       "land area                                0\n",
       "median household income                  0\n",
       "households with kids                     0\n",
       "year housing was built before 1970       0\n",
       "year housing was built after 1970        0\n",
       "household income < 25k                   0\n",
       "household income 25k~60K                 0\n",
       "hosuehold income 60k~150k                0\n",
       "household income > 150k                  0\n",
       "~25k                                     0\n",
       "25k~60k                                  0\n",
       "60k~150k                                 0\n",
       "150k~                                    0\n",
       "means of transportation to work (Car)    0\n",
       "educational attainment (~high)           0\n",
       "associate                                0\n",
       "bachelor                                 0\n",
       "master                                   0\n",
       "dtype: int64"
      ]
     },
     "execution_count": 33,
     "metadata": {},
     "output_type": "execute_result"
    }
   ],
   "source": [
    "outsideEn.isnull().sum()"
   ]
  },
  {
   "cell_type": "code",
   "execution_count": 34,
   "id": "bc216969",
   "metadata": {},
   "outputs": [],
   "source": [
    "# 主資料與外部資料合併\n",
    "allData = pd.merge(left=df,\n",
    "                   right=outsideEn,\n",
    "                   how='inner',\n",
    "                   on='zipcode')\n",
    "allData = pd.merge(left=allData,\n",
    "                   right=outsideCh,\n",
    "                   how='inner',\n",
    "                   on='zipcode')\n",
    "allData = pd.merge(left=allData,\n",
    "                   right=df3,\n",
    "                   how='left',\n",
    "                   on='zipcode')\n",
    "allData = pd.merge(left=allData,\n",
    "                   right=exchangeRate,\n",
    "                   how='left',\n",
    "                   on='soldout')"
   ]
  },
  {
   "cell_type": "code",
   "execution_count": 40,
   "id": "77de79eb",
   "metadata": {},
   "outputs": [],
   "source": [
    "# 2013年以前的匯率沒資料 用平均值補值\n",
    "allData['ExchangeRate'].fillna(allData['ExchangeRate'].mean(), inplace=True)"
   ]
  },
  {
   "cell_type": "code",
   "execution_count": 41,
   "id": "197a46c9",
   "metadata": {},
   "outputs": [],
   "source": [
    "allData = allData.reindex(columns = ['address', 'soldout', 'zipcode', 'housebedroom', 'housebathroom',\n",
    "       'sqft', 'walkscore', 'transitscore', 'school1', 'school2', 'school3',\n",
    "       'houseyear', 'lot', 'pt', 'ta','population density',\n",
    "       'housing units ', 'land area', 'median household income ',\n",
    "       'households with kids ', 'year housing was built before 1970',\n",
    "       'year housing was built after 1970', 'household income < 25k',\n",
    "       'household income 25k~60K', 'hosuehold income 60k~150k',\n",
    "       'household income > 150k', '~25k', '25k~60k', '60k~150k', '150k~',\n",
    "       'means of transportation to work (Car)',\n",
    "       'educational attainment (~high)', 'associate', 'bachelor', 'master',\n",
    "       '人口數', '性別男', '性別女', '性別比', '白人', '黑人', '西班牙', '亞洲', '夏威夷', '印度裔', '其他',\n",
    "       '白人比率', '黑人.1', '西班牙裔', '亞洲.1', '印度裔.1', '其他.1', '年齡中位數', '男性年齡中位數',\n",
    "       '女性年齡中位數', '每戶人數', '每戶平均收入', 'salesTaxRate', 'ExchangeRate', 'houseprice'])\n"
   ]
  },
  {
   "cell_type": "code",
   "execution_count": 42,
   "id": "621d5c5b",
   "metadata": {},
   "outputs": [],
   "source": [
    "# 欄位名稱更改\n",
    "allData.columns = [ 'address', 'soldout', 'zipcode', 'bedroom', 'bathroom', 'sqft',\n",
    "       'walkscore', 'transitscore', 'grade1_5', 'grade6_8', 'grade9_12',\n",
    "       'houseyear', 'lot', 'propertyTax', 'totalAssessment',\n",
    "       'populationDensity', 'housingUnits ', 'landArea', 'medianIncome ',\n",
    "       'withKids ', 'before_1970', 'after_1970', 'income_25k', 'income25k_60K',\n",
    "       'income60k_150k', 'income150k_', '_25k', '25k_60k', '60k_150k', '150k_',\n",
    "       'CommuteByCar_mean', 'highschool', 'associate', 'bachelor', 'master',\n",
    "       'population', 'male', 'female', 'sexRatio', 'White', 'African',\n",
    "       'Latino', 'Asian', 'Hawaiian', 'Indian', 'Others', 'WhiteRatio',\n",
    "       'AfricanRatio', 'LatinoRatio', 'AsianRatio', 'IndianRatio',\n",
    "       'OthersRatio', 'MedianAge', 'MaleMedianAge', 'FemaleMedianAge',\n",
    "       'People_house', 'AverageIncome_house',  'salesTaxRate', 'ExchangeRate', 'houseprice']"
   ]
  },
  {
   "cell_type": "code",
   "execution_count": 21,
   "id": "e7798630",
   "metadata": {},
   "outputs": [],
   "source": [
    "df.to_csv('allData.csv', index=0)"
   ]
  }
 ],
 "metadata": {
  "kernelspec": {
   "display_name": "Python 3",
   "language": "python",
   "name": "python3"
  },
  "language_info": {
   "codemirror_mode": {
    "name": "ipython",
    "version": 3
   },
   "file_extension": ".py",
   "mimetype": "text/x-python",
   "name": "python",
   "nbconvert_exporter": "python",
   "pygments_lexer": "ipython3",
   "version": "3.8.8"
  }
 },
 "nbformat": 4,
 "nbformat_minor": 5
}
