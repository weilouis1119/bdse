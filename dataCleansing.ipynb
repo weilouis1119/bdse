{
 "cells": [
  {
   "cell_type": "code",
   "execution_count": 1,
   "id": "979dff36-6c94-4d1e-9c85-44993ec9b92f",
   "metadata": {},
   "outputs": [],
   "source": [
    "import pandas as pd\n",
    "import numpy as np\n",
    "import re"
   ]
  },
  {
   "cell_type": "code",
   "execution_count": 71,
   "id": "1e8dd9d7-aa35-4d7f-90a4-89b403032f62",
   "metadata": {},
   "outputs": [
    {
     "name": "stdin",
     "output_type": "stream",
     "text": [
      "input zipcode 98101\n"
     ]
    },
    {
     "name": "stdout",
     "output_type": "stream",
     "text": [
      "before 8\n",
      "after:  8\n",
      "mls              0\n",
      "housebedroom     0\n",
      "housebathroom    1\n",
      "sqft             1\n",
      "address          0\n",
      "soldout          0\n",
      "walkscore        0\n",
      "transitscore     0\n",
      "school1          2\n",
      "school2          2\n",
      "school3          3\n",
      "housetype        0\n",
      "houseyear        3\n",
      "lot              5\n",
      "pt               3\n",
      "ta               3\n",
      "hoa              0\n",
      "houseprice       0\n",
      "dtype: int64\n"
     ]
    }
   ],
   "source": [
    "zipcode = input('input zipcode')\n",
    "df = pd.read_csv('%s/%sdata.csv' % (zipcode, zipcode))\n",
    "print('before', len(df))\n",
    "df = df.drop_duplicates()\n",
    "\n",
    "# 刪除重複的標題\n",
    "index = df[df['mls'] == 'mls'].index.to_list()\n",
    "df.drop(labels=index, axis='index', inplace=True)\n",
    "\n",
    "# 刪除houseprice為空值\n",
    "index = df[df['houseprice'].isnull() == True].index.to_list()\n",
    "df.drop(labels=index, axis='index',inplace=True)\n",
    "\n",
    "df.reset_index(inplace=True, drop=True)\n",
    "print('after: ',len(df))\n",
    "\n",
    "# lot acres to sqft\n",
    "for i in range(len(df)):\n",
    "    if re.search('Acres', str(df.iloc[i]['lot'])) != None:\n",
    "        lot = float(re.search('[0-9]+\\.?[0-9]*',df.iloc[i]['lot']).group())\n",
    "        lot = int(lot * 43560)\n",
    "        df.iloc[i, 13] = lot\n",
    "    if re.search('sqft', str(df.iloc[i]['lot'])) != None:\n",
    "        lot = int(re.search('[0-9]+,?[0-9]*',df.iloc[i]['lot']).group().replace(',',''))\n",
    "        df.iloc[i, 13] = lot\n",
    "# hoa\n",
    "for i in range(len(df)):\n",
    "    hoa = str(df.iloc[i]['hoa']).replace(',', '')\n",
    "    df.iloc[i,16] = hoa\n",
    "\n",
    "        \n",
    "# No Data to Null\n",
    "index = df[df['houseyear'] == 'No Data'] .index.to_list()\n",
    "for i in index:\n",
    "    df.iloc[i, 12] = None\n",
    "    \n",
    "print(df.isnull().sum())\n"
   ]
  },
  {
   "cell_type": "code",
   "execution_count": 72,
   "id": "ddc6438d-7bcd-4282-8a45-f8ed2ccf9af1",
   "metadata": {},
   "outputs": [
    {
     "name": "stdout",
     "output_type": "stream",
     "text": [
      "mls              0\n",
      "housebedroom     0\n",
      "housebathroom    0\n",
      "sqft             0\n",
      "address          0\n",
      "soldout          0\n",
      "walkscore        0\n",
      "transitscore     0\n",
      "school1          0\n",
      "school2          0\n",
      "school3          0\n",
      "housetype        0\n",
      "houseyear        0\n",
      "lot              0\n",
      "pt               0\n",
      "ta               0\n",
      "hoa              6\n",
      "houseprice       0\n",
      "dtype: int64\n"
     ]
    }
   ],
   "source": [
    "# 換成float\n",
    "df[['housebedroom','housebathroom', 'sqft', 'walkscore', 'transitscore', 'school1', 'school2', 'school3', 'lot', 'pt','ta', 'hoa', 'houseprice']] = df[['housebedroom','housebathroom', 'sqft', 'walkscore', 'transitscore', 'school1', 'school2', 'school3', 'lot', 'pt','ta', 'hoa', 'houseprice']].astype('float')\n",
    "\n",
    "# 空值補0\n",
    "zeros = ['housebedroom', 'housebathroom', 'walkscore', 'transitscore', 'school1', 'school2', 'school3', 'lot']\n",
    "for zero in zeros:\n",
    "    df[zero].fillna(0,inplace=True)\n",
    "    \n",
    "# 空值補平均\n",
    "df['sqft'].fillna(value=df['sqft'].mean(), inplace=True)\n",
    "\n",
    "# 空值補中位數\n",
    "df['houseyear'].fillna(value=df['houseyear'].median(), inplace=True)\n",
    "\n",
    "\n",
    "# 按照計算公式補值\n",
    "ptIndex = df[df['pt'].isnull() == True].index.to_list()\n",
    "for index in ptIndex:\n",
    "    ptFillna = df['pt'].mean() / df['houseprice'].mean() *df.iloc[index]['houseprice']\n",
    "    df.iloc[index, 14] = int(ptFillna)\n",
    "    \n",
    "taIndex = df[df['ta'].isnull() == True].index.to_list()\n",
    "for index in taIndex:\n",
    "    taFillna = df['ta'].mean() / df['houseprice'].mean() *df.iloc[index]['houseprice']\n",
    "    df.iloc[index, 15] = int(taFillna)\n",
    "    \n",
    "print(df.isnull().sum())\n",
    "\n",
    "#to int\n",
    "df[['sqft', 'walkscore', 'transitscore', 'school1', 'school2', 'school3', 'lot', 'pt','ta', 'houseprice']] = df[['sqft', 'walkscore', 'transitscore', 'school1', 'school2', 'school3', 'lot', 'pt','ta', 'houseprice']].astype('int')\n",
    "\n",
    "\n"
   ]
  },
  {
   "cell_type": "code",
   "execution_count": 73,
   "id": "b48da8c8-84ff-4336-a010-43ce966ee450",
   "metadata": {},
   "outputs": [],
   "source": [
    "df.to_csv('%s/%sdataclean.csv' % (zipcode, zipcode), index=0)"
   ]
  }
 ],
 "metadata": {
  "kernelspec": {
   "display_name": "Python 3",
   "language": "python",
   "name": "python3"
  },
  "language_info": {
   "codemirror_mode": {
    "name": "ipython",
    "version": 3
   },
   "file_extension": ".py",
   "mimetype": "text/x-python",
   "name": "python",
   "nbconvert_exporter": "python",
   "pygments_lexer": "ipython3",
   "version": "3.8.8"
  }
 },
 "nbformat": 4,
 "nbformat_minor": 5
}
