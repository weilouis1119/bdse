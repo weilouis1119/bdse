{
 "cells": [
  {
   "cell_type": "code",
   "execution_count": 2,
   "id": "155323d4",
   "metadata": {},
   "outputs": [],
   "source": [
    "import pandas as pd\n",
    "import re\n",
    "from dateutil.parser import parse\n",
    "import joblib\n",
    "from sklearn.metrics import r2_score\n",
    "from sklearn.preprocessing import StandardScaler\n",
    "import json\n",
    "import googlemaps\n",
    "from datetime import datetime\n",
    "from dateutil.parser import parse"
   ]
  },
  {
   "cell_type": "code",
   "execution_count": 3,
   "id": "862d4061",
   "metadata": {},
   "outputs": [],
   "source": [
    "df = pd.read_csv('DemoData.csv')"
   ]
  },
  {
   "cell_type": "code",
   "execution_count": 4,
   "id": "84748cb2",
   "metadata": {},
   "outputs": [],
   "source": [
    "# 從地址中提取zipcode\n",
    "c=0\n",
    "zipcodeList = []\n",
    "for i in df['address']:\n",
    "    zipcode = re.search('WA 98[0-9]+', i).group().replace('WA ', '')\n",
    "    zipcodeList.append(zipcode)\n",
    "df['zipcode'] = zipcodeList\n",
    "df['zipcode'] = df['zipcode'].astype(int)"
   ]
  },
  {
   "cell_type": "code",
   "execution_count": 5,
   "id": "d6c17bd0",
   "metadata": {},
   "outputs": [],
   "source": [
    "# 外部資料結合\n",
    "outsideCh = pd.read_excel('外部資料.xlsx', sheet_name='中文')\n",
    "outsideEn = pd.read_excel('外部資料.xlsx', sheet_name='英文')\n",
    "exchangeRate = pd.read_csv('exchangeRate.csv')\n",
    "taxRate = pd.read_csv('taxrate.csv')\n",
    "outsideCh.drop(['Unnamed: 23', 'Unnamed: 24'],axis=1, inplace=True)\n",
    "taxRate.columns = ['zipcode', 'salesTaxRate']\n",
    "exchangeRate.columns = ['date','ExchangeRate']"
   ]
  },
  {
   "cell_type": "code",
   "execution_count": 6,
   "id": "3c23768d",
   "metadata": {},
   "outputs": [],
   "source": [
    "# 日期統一格式\n",
    "for i in range(len(df)):\n",
    "    df.iloc[i, 3] = datetime.strftime(parse(df.iloc[i, 3]), '%m/%d/%Y')"
   ]
  },
  {
   "cell_type": "code",
   "execution_count": 7,
   "id": "8b1c68e6",
   "metadata": {},
   "outputs": [],
   "source": [
    "# 資料合併\n",
    "allData = pd.merge(left=df, right=outsideEn,\n",
    "                   how='inner', on='zipcode')\n",
    "\n",
    "allData = pd.merge(left=allData, right=outsideCh,\n",
    "                   how='inner', on='zipcode')\n",
    "\n",
    "allData = pd.merge(left=allData, right=exchangeRate,\n",
    "                   how='left', on='date')\n",
    "\n",
    "allData = pd.merge(left=allData, right=taxRate,\n",
    "                   how='left', on='zipcode')"
   ]
  },
  {
   "cell_type": "code",
   "execution_count": 8,
   "id": "aa43cf0d",
   "metadata": {},
   "outputs": [
    {
     "name": "stderr",
     "output_type": "stream",
     "text": [
      "<ipython-input-8-b6c2b2431ebe>:2: FutureWarning: The default value of regex will change from True to False in a future version.\n",
      "  allData['date'] = allData['date'].str.replace('[0-9]{1,2}/[0-9]{1,2}/', '').astype(int)\n"
     ]
    }
   ],
   "source": [
    "# date 改年份 , 刪掉propertytype\n",
    "allData['date'] = allData['date'].str.replace('[0-9]{1,2}/[0-9]{1,2}/', '').astype(int)\n",
    "allData.drop(['PropertyType'], axis=1, inplace=True)"
   ]
  },
  {
   "cell_type": "code",
   "execution_count": 9,
   "id": "caacc0cd",
   "metadata": {},
   "outputs": [],
   "source": [
    "# walk, transit 合併進去\n",
    "traffic = pd.read_csv('trafficScore.csv')\n",
    "allData = pd.merge(left=allData,\n",
    "                   right=traffic,\n",
    "                   how='inner',\n",
    "                   on='address')"
   ]
  },
  {
   "cell_type": "code",
   "execution_count": 10,
   "id": "7e53afed",
   "metadata": {},
   "outputs": [],
   "source": [
    "allData = allData.reindex(columns=['address', 'date', 'zipcode', 'bed', 'bath', 'sqft', 'walk', 'transit', 'school1', 'school2',\n",
    "                                   'school3', 'yearBulit', 'lot', 'pt', 'ta',\n",
    "                                   'population density', 'housing units ', 'land area',\n",
    "                                   'median household income ', 'households with kids ',\n",
    "                                   'year housing was built before 1970',\n",
    "                                   'year housing was built after 1970', 'household income < 25k',\n",
    "                                   'household income 25k~60K', 'hosuehold income 60k~150k',\n",
    "                                   'household income > 150k', '~25k', '25k~60k', '60k~150k', '150k~',\n",
    "                                   'means of transportation to work (Car)',\n",
    "                                   'educational attainment (~high)', 'associate', 'bachelor', 'master',\n",
    "                                   '人口數', '性別男', '性別女', '性別比', '白人', '黑人', '西班牙', '亞洲', '夏威夷', '印度裔', '其他',\n",
    "                                   '白人比率', '黑人.1', '西班牙裔', '亞洲.1', '印度裔.1', '其他.1', '年齡中位數', '男性年齡中位數',\n",
    "                                    '女性年齡中位數', '每戶人數', '每戶平均收入', 'ExchangeRate', 'salesTaxRate', 'price'])"
   ]
  },
  {
   "cell_type": "code",
   "execution_count": 11,
   "id": "a175bcc6",
   "metadata": {},
   "outputs": [],
   "source": [
    "allData.columns = [ 'address', 'soldout', 'zipcode', 'bedroom', 'bathroom', 'sqft',\n",
    "       'walkscore', 'transitscore', 'grade1_5', 'grade6_8', 'grade9_12',\n",
    "       'houseyear', 'lot', 'propertyTax', 'totalAssessment',\n",
    "       'populationDensity', 'housingUnits ', 'landArea', 'medianIncome ',\n",
    "       'withKids ', 'before_1970', 'after_1970', 'income_25k', 'income25k_60K',\n",
    "       'income60k_150k', 'income150k_', '_25k', '25k_60k', '60k_150k', '150k_',\n",
    "       'CommuteByCar_mean', 'highschool', 'associate', 'bachelor', 'master',\n",
    "       'population', 'male', 'female', 'sexRatio', 'White', 'African',\n",
    "       'Latino', 'Asian', 'Hawaiian', 'Indian', 'Others', 'WhiteRatio',\n",
    "       'AfricanRatio', 'LatinoRatio', 'AsianRatio', 'IndianRatio',\n",
    "       'OthersRatio', 'MedianAge', 'MaleMedianAge', 'FemaleMedianAge',\n",
    "       'People_house', 'AverageIncome_house', 'ExchangeRate', 'salesTaxRate', 'houseprice']"
   ]
  },
  {
   "cell_type": "code",
   "execution_count": 12,
   "id": "6085b740",
   "metadata": {},
   "outputs": [],
   "source": [
    "# 刪掉機器學習不需要的欄位\n",
    "allData = allData.drop(columns = ['_25k', '25k_60k','60k_150k', '150k_',\n",
    "                              'male', 'female', 'sexRatio',\n",
    "                              'White', 'African', 'Asian', \n",
    "                              'Hawaiian', 'Indian', 'Others',\n",
    "                              'WhiteRatio','MaleMedianAge',\n",
    "                              'FemaleMedianAge'])"
   ]
  },
  {
   "cell_type": "code",
   "execution_count": 13,
   "id": "65f3fff3",
   "metadata": {},
   "outputs": [
    {
     "name": "stderr",
     "output_type": "stream",
     "text": [
      "/Users/louis/opt/anaconda3/lib/python3.8/site-packages/sklearn/base.py:310: UserWarning: Trying to unpickle estimator StandardScaler from version 0.24.2 when using version 0.24.1. This might lead to breaking code or invalid results. Use at your own risk.\n",
      "  warnings.warn(\n",
      "/Users/louis/opt/anaconda3/lib/python3.8/site-packages/sklearn/base.py:310: UserWarning: Trying to unpickle estimator Pipeline from version 0.24.2 when using version 0.24.1. This might lead to breaking code or invalid results. Use at your own risk.\n",
      "  warnings.warn(\n"
     ]
    }
   ],
   "source": [
    "# 機器學習\n",
    "xgb = joblib.load('xgboost_model.pkl')"
   ]
  },
  {
   "cell_type": "code",
   "execution_count": 14,
   "id": "8c041b09",
   "metadata": {},
   "outputs": [],
   "source": [
    "# 限定範圍\n",
    "allData = allData[allData['houseprice'] <= 3000000]\n",
    "allData = allData[allData['houseprice'] >= 200000]\n",
    "allData = allData[allData['lot'] < 100000]"
   ]
  },
  {
   "cell_type": "code",
   "execution_count": 15,
   "id": "dd830f7d",
   "metadata": {},
   "outputs": [],
   "source": [
    "allData['zipcode'] = allData['zipcode'].astype(str)\n",
    "allData['zipcode'] = allData['zipcode'].astype('category')\n",
    "X = allData.iloc[:, 1:-1].values\n",
    "y = allData.iloc[:, -1].values\n",
    "y_pred = xgb.predict(X)"
   ]
  },
  {
   "cell_type": "code",
   "execution_count": 16,
   "id": "37335c75",
   "metadata": {},
   "outputs": [
    {
     "data": {
      "text/plain": [
       "419"
      ]
     },
     "execution_count": 16,
     "metadata": {},
     "output_type": "execute_result"
    }
   ],
   "source": [
    "allData['zipcode'].memory_usage(index=False)"
   ]
  },
  {
   "cell_type": "code",
   "execution_count": 17,
   "id": "2a7b19a6",
   "metadata": {},
   "outputs": [
    {
     "data": {
      "text/plain": [
       "0.8924714793472027"
      ]
     },
     "execution_count": 17,
     "metadata": {},
     "output_type": "execute_result"
    }
   ],
   "source": [
    "r2_score(y ,y_pred)"
   ]
  },
  {
   "cell_type": "code",
   "execution_count": 20,
   "id": "25a3b24d",
   "metadata": {},
   "outputs": [],
   "source": [
    "#增加預測欄位 便罷價錢欄位單位改成 1 sqft 多少錢\n",
    "pred_price = [y_pred[i] /  X[i][4] for i in range(len(X))]                                                  \n",
    "allData['Predict_price_sqft'] = pred_price\n",
    "allData['Actual_price_sqft'] = allData['houseprice'] / ['sqft']"
   ]
  },
  {
   "cell_type": "code",
   "execution_count": 20,
   "id": "6207c421",
   "metadata": {},
   "outputs": [],
   "source": [
    "# 只留小數後兩位\n",
    "allDara = allData.round(2)"
   ]
  },
  {
   "cell_type": "code",
   "execution_count": 22,
   "id": "fdeeb77e",
   "metadata": {},
   "outputs": [],
   "source": [
    "# googleapi 金鑰\n",
    "gmaps = googlemaps.Client(key='google_api_key')"
   ]
  },
  {
   "cell_type": "code",
   "execution_count": 23,
   "id": "0ffb42d4",
   "metadata": {},
   "outputs": [],
   "source": [
    "# 取得經緯度\n",
    "lis = []\n",
    "for address in new['address']:\n",
    "    l = []\n",
    "    a = gmaps.geocode(address= address)\n",
    "    lat = a[0]['geometry']['location']['lat']\n",
    "    lng = a[0]['geometry']['location']['lng']\n",
    "    l.append(address)\n",
    "    l.append(lat)\n",
    "    l.append(lng)\n",
    "    lis.append(l)"
   ]
  },
  {
   "cell_type": "code",
   "execution_count": 24,
   "id": "4b83b6e9",
   "metadata": {},
   "outputs": [],
   "source": [
    "latLng = pd.DataFrame(lis, columns=['address','lat', 'lng'])"
   ]
  },
  {
   "cell_type": "code",
   "execution_count": 25,
   "id": "89e6d0ec",
   "metadata": {},
   "outputs": [],
   "source": [
    "df1 = pd.merge(left=new,\n",
    "         right=latLng,\n",
    "         how='inner',\n",
    "         on ='address')"
   ]
  },
  {
   "cell_type": "code",
   "execution_count": 26,
   "id": "545bf060",
   "metadata": {},
   "outputs": [],
   "source": [
    "webData = df1[['zipcode', 'address', 'lat', 'lng', 'bedroom', 'bathroom', 'sqft',\n",
    "               'Predict_price_sqft', 'Actual_price_sqft']]"
   ]
  },
  {
   "cell_type": "code",
   "execution_count": 35,
   "id": "6e4ee2fb",
   "metadata": {},
   "outputs": [
    {
     "data": {
      "text/html": [
       "<div>\n",
       "<style scoped>\n",
       "    .dataframe tbody tr th:only-of-type {\n",
       "        vertical-align: middle;\n",
       "    }\n",
       "\n",
       "    .dataframe tbody tr th {\n",
       "        vertical-align: top;\n",
       "    }\n",
       "\n",
       "    .dataframe thead th {\n",
       "        text-align: right;\n",
       "    }\n",
       "</style>\n",
       "<table border=\"1\" class=\"dataframe\">\n",
       "  <thead>\n",
       "    <tr style=\"text-align: right;\">\n",
       "      <th></th>\n",
       "      <th>zipcode</th>\n",
       "      <th>address</th>\n",
       "      <th>lat</th>\n",
       "      <th>lng</th>\n",
       "      <th>bedroom</th>\n",
       "      <th>bathroom</th>\n",
       "      <th>sqft</th>\n",
       "      <th>Predict_price_sqft</th>\n",
       "      <th>Actual_price_sqft</th>\n",
       "    </tr>\n",
       "  </thead>\n",
       "  <tbody>\n",
       "    <tr>\n",
       "      <th>0</th>\n",
       "      <td>98010</td>\n",
       "      <td>29630 232nd Ave Se, Black Diamond, WA 98010</td>\n",
       "      <td>47.335882</td>\n",
       "      <td>-122.031602</td>\n",
       "      <td>3.0</td>\n",
       "      <td>1.0</td>\n",
       "      <td>2983</td>\n",
       "      <td>297.09</td>\n",
       "      <td>301.37</td>\n",
       "    </tr>\n",
       "    <tr>\n",
       "      <th>1</th>\n",
       "      <td>98010</td>\n",
       "      <td>32330 2nd Ave, Black Diamond, WA 98010</td>\n",
       "      <td>47.311454</td>\n",
       "      <td>-122.005999</td>\n",
       "      <td>4.0</td>\n",
       "      <td>1.0</td>\n",
       "      <td>1540</td>\n",
       "      <td>276.57</td>\n",
       "      <td>324.64</td>\n",
       "    </tr>\n",
       "    <tr>\n",
       "      <th>2</th>\n",
       "      <td>98010</td>\n",
       "      <td>29620 232nd Ave Se, Black Diamond, WA 98010</td>\n",
       "      <td>47.336286</td>\n",
       "      <td>-122.032137</td>\n",
       "      <td>3.0</td>\n",
       "      <td>2.0</td>\n",
       "      <td>2020</td>\n",
       "      <td>405.00</td>\n",
       "      <td>363.86</td>\n",
       "    </tr>\n",
       "    <tr>\n",
       "      <th>3</th>\n",
       "      <td>98010</td>\n",
       "      <td>21604 Se 290th Ct, Black Diamond, WA 98010</td>\n",
       "      <td>47.342229</td>\n",
       "      <td>-122.053489</td>\n",
       "      <td>3.0</td>\n",
       "      <td>1.0</td>\n",
       "      <td>1360</td>\n",
       "      <td>339.31</td>\n",
       "      <td>349.26</td>\n",
       "    </tr>\n",
       "    <tr>\n",
       "      <th>4</th>\n",
       "      <td>98010</td>\n",
       "      <td>32330 3rd Ave, Black Diamond, WA 98010</td>\n",
       "      <td>47.311551</td>\n",
       "      <td>-122.003780</td>\n",
       "      <td>4.0</td>\n",
       "      <td>1.5</td>\n",
       "      <td>2420</td>\n",
       "      <td>223.14</td>\n",
       "      <td>227.27</td>\n",
       "    </tr>\n",
       "    <tr>\n",
       "      <th>...</th>\n",
       "      <td>...</td>\n",
       "      <td>...</td>\n",
       "      <td>...</td>\n",
       "      <td>...</td>\n",
       "      <td>...</td>\n",
       "      <td>...</td>\n",
       "      <td>...</td>\n",
       "      <td>...</td>\n",
       "      <td>...</td>\n",
       "    </tr>\n",
       "    <tr>\n",
       "      <th>148</th>\n",
       "      <td>98106</td>\n",
       "      <td>9203 12th Ave Sw, Seattle, WA 98106</td>\n",
       "      <td>47.520853</td>\n",
       "      <td>-122.350995</td>\n",
       "      <td>3.0</td>\n",
       "      <td>2.0</td>\n",
       "      <td>1120</td>\n",
       "      <td>549.25</td>\n",
       "      <td>491.07</td>\n",
       "    </tr>\n",
       "    <tr>\n",
       "      <th>149</th>\n",
       "      <td>98106</td>\n",
       "      <td>5657 23rd Ave Sw, Seattle, WA 98106</td>\n",
       "      <td>47.550269</td>\n",
       "      <td>-122.362073</td>\n",
       "      <td>5.0</td>\n",
       "      <td>3.0</td>\n",
       "      <td>2090</td>\n",
       "      <td>387.60</td>\n",
       "      <td>370.81</td>\n",
       "    </tr>\n",
       "    <tr>\n",
       "      <th>150</th>\n",
       "      <td>98106</td>\n",
       "      <td>8101 12th Ave Sw, Seattle, WA 98106</td>\n",
       "      <td>47.529972</td>\n",
       "      <td>-122.350916</td>\n",
       "      <td>3.0</td>\n",
       "      <td>1.0</td>\n",
       "      <td>1120</td>\n",
       "      <td>568.31</td>\n",
       "      <td>579.29</td>\n",
       "    </tr>\n",
       "    <tr>\n",
       "      <th>151</th>\n",
       "      <td>98106</td>\n",
       "      <td>5403 23rd Ave Sw, Seattle, WA 98106</td>\n",
       "      <td>47.553508</td>\n",
       "      <td>-122.361972</td>\n",
       "      <td>5.0</td>\n",
       "      <td>2.0</td>\n",
       "      <td>1370</td>\n",
       "      <td>421.02</td>\n",
       "      <td>419.71</td>\n",
       "    </tr>\n",
       "    <tr>\n",
       "      <th>152</th>\n",
       "      <td>98106</td>\n",
       "      <td>4844 Puget Blvd Sw, Seattle, WA 98106</td>\n",
       "      <td>47.558021</td>\n",
       "      <td>-122.361495</td>\n",
       "      <td>2.0</td>\n",
       "      <td>2.0</td>\n",
       "      <td>1680</td>\n",
       "      <td>432.30</td>\n",
       "      <td>439.88</td>\n",
       "    </tr>\n",
       "  </tbody>\n",
       "</table>\n",
       "<p>153 rows × 9 columns</p>\n",
       "</div>"
      ],
      "text/plain": [
       "    zipcode                                      address        lat  \\\n",
       "0     98010  29630 232nd Ave Se, Black Diamond, WA 98010  47.335882   \n",
       "1     98010       32330 2nd Ave, Black Diamond, WA 98010  47.311454   \n",
       "2     98010  29620 232nd Ave Se, Black Diamond, WA 98010  47.336286   \n",
       "3     98010   21604 Se 290th Ct, Black Diamond, WA 98010  47.342229   \n",
       "4     98010       32330 3rd Ave, Black Diamond, WA 98010  47.311551   \n",
       "..      ...                                          ...        ...   \n",
       "148   98106          9203 12th Ave Sw, Seattle, WA 98106  47.520853   \n",
       "149   98106          5657 23rd Ave Sw, Seattle, WA 98106  47.550269   \n",
       "150   98106          8101 12th Ave Sw, Seattle, WA 98106  47.529972   \n",
       "151   98106          5403 23rd Ave Sw, Seattle, WA 98106  47.553508   \n",
       "152   98106        4844 Puget Blvd Sw, Seattle, WA 98106  47.558021   \n",
       "\n",
       "            lng  bedroom  bathroom  sqft  Predict_price_sqft  \\\n",
       "0   -122.031602      3.0       1.0  2983              297.09   \n",
       "1   -122.005999      4.0       1.0  1540              276.57   \n",
       "2   -122.032137      3.0       2.0  2020              405.00   \n",
       "3   -122.053489      3.0       1.0  1360              339.31   \n",
       "4   -122.003780      4.0       1.5  2420              223.14   \n",
       "..          ...      ...       ...   ...                 ...   \n",
       "148 -122.350995      3.0       2.0  1120              549.25   \n",
       "149 -122.362073      5.0       3.0  2090              387.60   \n",
       "150 -122.350916      3.0       1.0  1120              568.31   \n",
       "151 -122.361972      5.0       2.0  1370              421.02   \n",
       "152 -122.361495      2.0       2.0  1680              432.30   \n",
       "\n",
       "     Actual_price_sqft  \n",
       "0               301.37  \n",
       "1               324.64  \n",
       "2               363.86  \n",
       "3               349.26  \n",
       "4               227.27  \n",
       "..                 ...  \n",
       "148             491.07  \n",
       "149             370.81  \n",
       "150             579.29  \n",
       "151             419.71  \n",
       "152             439.88  \n",
       "\n",
       "[153 rows x 9 columns]"
      ]
     },
     "execution_count": 35,
     "metadata": {},
     "output_type": "execute_result"
    }
   ],
   "source": [
    "webData"
   ]
  },
  {
   "cell_type": "code",
   "execution_count": 36,
   "id": "d4469451",
   "metadata": {},
   "outputs": [],
   "source": [
    "webData.to_csv('webData.csv', index=0)"
   ]
  }
 ],
 "metadata": {
  "kernelspec": {
   "display_name": "Python 3",
   "language": "python",
   "name": "python3"
  },
  "language_info": {
   "codemirror_mode": {
    "name": "ipython",
    "version": 3
   },
   "file_extension": ".py",
   "mimetype": "text/x-python",
   "name": "python",
   "nbconvert_exporter": "python",
   "pygments_lexer": "ipython3",
   "version": "3.8.8"
  }
 },
 "nbformat": 4,
 "nbformat_minor": 5
}
